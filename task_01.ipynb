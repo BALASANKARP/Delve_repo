{
  "nbformat": 4,
  "nbformat_minor": 0,
  "metadata": {
    "colab": {
      "provenance": []
    },
    "kernelspec": {
      "name": "python3",
      "display_name": "Python 3"
    },
    "language_info": {
      "name": "python"
    }
  },
  "cells": [
    {
      "cell_type": "code",
      "source": [
        "# Question 1\n",
        "x, y = map(int, input(\"Enter two digits (X,Y) separated by a comma: \").split(\",\"))\n",
        "array = [[i * j for j in range(y)] for i in range(x)]\n",
        "print(array)"
      ],
      "metadata": {
        "colab": {
          "base_uri": "https://localhost:8080/"
        },
        "id": "h_9mIbNg0bPN",
        "outputId": "9b39ffa0-8d25-420c-f9ef-fb8b722cb909"
      },
      "execution_count": 20,
      "outputs": [
        {
          "output_type": "stream",
          "name": "stdout",
          "text": [
            "Enter two digits (X,Y) separated by a comma: 3,5\n",
            "[[0, 0, 0, 0, 0], [0, 1, 2, 3, 4], [0, 2, 4, 6, 8]]\n"
          ]
        }
      ]
    },
    {
      "cell_type": "code",
      "source": [
        "# Question 2\n",
        "words = input(\"Enter comma-separated words: \").split(\",\")\n",
        "sorted_words = sorted(words)\n",
        "print(\",\".join(sorted_words))"
      ],
      "metadata": {
        "colab": {
          "base_uri": "https://localhost:8080/"
        },
        "id": "cngZccUg0cuj",
        "outputId": "d9a3fe57-b2db-4b98-c65a-039cdd9060f9"
      },
      "execution_count": 22,
      "outputs": [
        {
          "output_type": "stream",
          "name": "stdout",
          "text": [
            "Enter comma-separated words: without,hello,bag,world\n",
            "bag,hello,without,world\n"
          ]
        }
      ]
    },
    {
      "cell_type": "code",
      "source": [
        "# Question 3\n",
        "words = input(\"Enter whitespace-separated words: \").split()\n",
        "unique_sorted_words = sorted(set(words))\n",
        "print(\" \".join(unique_sorted_words))"
      ],
      "metadata": {
        "colab": {
          "base_uri": "https://localhost:8080/"
        },
        "id": "yq2rx2co0eMN",
        "outputId": "5cb936bb-8172-4878-8c96-9ca4b9f12151"
      },
      "execution_count": 24,
      "outputs": [
        {
          "output_type": "stream",
          "name": "stdout",
          "text": [
            "Enter whitespace-separated words: hello world and practice makes perfect and hello world again\n",
            "again and hello makes perfect practice world\n"
          ]
        }
      ]
    },
    {
      "cell_type": "code",
      "source": [
        "# Question 4\n",
        "even_digit_numbers = [str(num) for num in range(1000, 3001) if all(int(digit) % 2 == 0 for digit in str(num))]\n",
        "print(\",\".join(even_digit_numbers))"
      ],
      "metadata": {
        "colab": {
          "base_uri": "https://localhost:8080/"
        },
        "id": "RiY5PTKD0fvk",
        "outputId": "29441899-3b2d-4c65-d385-e5f7e3b49a94"
      },
      "execution_count": 4,
      "outputs": [
        {
          "output_type": "stream",
          "name": "stdout",
          "text": [
            "2000,2002,2004,2006,2008,2020,2022,2024,2026,2028,2040,2042,2044,2046,2048,2060,2062,2064,2066,2068,2080,2082,2084,2086,2088,2200,2202,2204,2206,2208,2220,2222,2224,2226,2228,2240,2242,2244,2246,2248,2260,2262,2264,2266,2268,2280,2282,2284,2286,2288,2400,2402,2404,2406,2408,2420,2422,2424,2426,2428,2440,2442,2444,2446,2448,2460,2462,2464,2466,2468,2480,2482,2484,2486,2488,2600,2602,2604,2606,2608,2620,2622,2624,2626,2628,2640,2642,2644,2646,2648,2660,2662,2664,2666,2668,2680,2682,2684,2686,2688,2800,2802,2804,2806,2808,2820,2822,2824,2826,2828,2840,2842,2844,2846,2848,2860,2862,2864,2866,2868,2880,2882,2884,2886,2888\n"
          ]
        }
      ]
    },
    {
      "cell_type": "code",
      "source": [
        "# Question 5\n",
        "sentence = input(\"Enter a sentence: \")\n",
        "letters = sum(c.isalpha() for c in sentence)\n",
        "digits = sum(c.isdigit() for c in sentence)\n",
        "print(f\"LETTERS {letters}\")\n",
        "print(f\"DIGITS {digits}\")"
      ],
      "metadata": {
        "colab": {
          "base_uri": "https://localhost:8080/"
        },
        "id": "glefiigB0hOc",
        "outputId": "3ccd2f79-240a-4a66-e114-dbf0779cd468"
      },
      "execution_count": 25,
      "outputs": [
        {
          "output_type": "stream",
          "name": "stdout",
          "text": [
            "Enter a sentence: hello world! 123\n",
            "LETTERS 10\n",
            "DIGITS 3\n"
          ]
        }
      ]
    },
    {
      "cell_type": "code",
      "source": [
        "# Question 6\n",
        "sentence = input(\"Enter a sentence: \")\n",
        "upper_case = sum(c.isupper() for c in sentence)\n",
        "lower_case = sum(c.islower() for c in sentence)\n",
        "print(f\"UPPER CASE {upper_case}\")\n",
        "print(f\"LOWER CASE {lower_case}\")"
      ],
      "metadata": {
        "colab": {
          "base_uri": "https://localhost:8080/"
        },
        "id": "CN2Olhxa09bz",
        "outputId": "88c66622-c310-4cae-df04-fd6ff4605896"
      },
      "execution_count": 26,
      "outputs": [
        {
          "output_type": "stream",
          "name": "stdout",
          "text": [
            "Enter a sentence: Hello world!\n",
            "UPPER CASE 1\n",
            "LOWER CASE 9\n"
          ]
        }
      ]
    },
    {
      "cell_type": "code",
      "source": [
        "# Question 7\n",
        "net_amount = 0\n",
        "while True:\n",
        "    try:\n",
        "        transaction = input(\"Enter transaction (D/W amount) or press Enter to stop: \")\n",
        "        if not transaction:\n",
        "            break\n",
        "        type_, amount = transaction.split()\n",
        "        amount = int(amount)\n",
        "        if type_ == 'D':\n",
        "            net_amount += amount\n",
        "        elif type_ == 'W':\n",
        "            net_amount -= amount\n",
        "    except:\n",
        "        print(\"Invalid input\")\n",
        "\n",
        "print(net_amount)"
      ],
      "metadata": {
        "colab": {
          "base_uri": "https://localhost:8080/"
        },
        "id": "9WxrwV3S09HD",
        "outputId": "778831f1-f465-41c4-b474-1e3c258d0699"
      },
      "execution_count": 27,
      "outputs": [
        {
          "output_type": "stream",
          "name": "stdout",
          "text": [
            "Enter transaction (D/W amount) or press Enter to stop: D 300\n",
            "Enter transaction (D/W amount) or press Enter to stop: D 300\n",
            "Enter transaction (D/W amount) or press Enter to stop: W 200\n",
            "Enter transaction (D/W amount) or press Enter to stop: D 100\n",
            "Enter transaction (D/W amount) or press Enter to stop: \n",
            "500\n"
          ]
        }
      ]
    },
    {
      "cell_type": "code",
      "execution_count": 28,
      "metadata": {
        "colab": {
          "base_uri": "https://localhost:8080/"
        },
        "id": "mkNBb1tCy4uS",
        "outputId": "531e680a-bb4b-40f8-f883-1b17322d3f77"
      },
      "outputs": [
        {
          "output_type": "stream",
          "name": "stdout",
          "text": [
            "Enter comma-separated passwords: ABd1234@1,a F1#,2w3E*,2We3345\n",
            "ABd1234@1\n"
          ]
        }
      ],
      "source": [
        "# Question 8\n",
        "import re\n",
        "passwords = input(\"Enter comma-separated passwords: \").split(\",\")\n",
        "valid_passwords = []\n",
        "\n",
        "for password in passwords:\n",
        "    if (6 <= len(password) <= 12 and\n",
        "        re.search(r\"[a-z]\", password) and\n",
        "        re.search(r\"[A-Z]\", password) and\n",
        "        re.search(r\"[0-9]\", password) and\n",
        "        re.search(r\"[$#@]\", password)):\n",
        "        valid_passwords.append(password)\n",
        "\n",
        "print(\",\".join(valid_passwords))\n"
      ]
    },
    {
      "cell_type": "code",
      "source": [
        "# Question 9\n",
        "entries = []\n",
        "while True:\n",
        "    entry = input(\"Enter (name, age, height) or press Enter to stop: \")\n",
        "    if not entry:\n",
        "        break\n",
        "    name, age, height = entry.split(\",\")\n",
        "    entries.append((name.strip(), age.strip(), height.strip()))\n",
        "\n",
        "sorted_entries = sorted(entries, key=lambda x: (x[0], int(x[1]), int(x[2])))\n",
        "print(sorted_entries)\n"
      ],
      "metadata": {
        "colab": {
          "base_uri": "https://localhost:8080/"
        },
        "id": "kzeXFEMD1G0b",
        "outputId": "4f06f1db-5eef-46f1-a8e2-fd25dc9c798d"
      },
      "execution_count": 30,
      "outputs": [
        {
          "output_type": "stream",
          "name": "stdout",
          "text": [
            "Enter (name, age, height) or press Enter to stop: Tom,19,80\n",
            "Enter (name, age, height) or press Enter to stop: John,20,90\n",
            "Enter (name, age, height) or press Enter to stop: Jony,17,91\n",
            "Enter (name, age, height) or press Enter to stop: Jony,17,93\n",
            "Enter (name, age, height) or press Enter to stop: Json,21,85\n",
            "Enter (name, age, height) or press Enter to stop: \n",
            "[('John', '20', '90'), ('Jony', '17', '91'), ('Jony', '17', '93'), ('Json', '21', '85'), ('Tom', '19', '80')]\n"
          ]
        }
      ]
    },
    {
      "cell_type": "code",
      "source": [
        "# Question 10\n",
        "import math\n",
        "x, y = 0, 0\n",
        "while True:\n",
        "    move = input(\"Enter movement (UP/DOWN/LEFT/RIGHT steps) or press Enter to stop: \")\n",
        "    if not move:\n",
        "        break\n",
        "    direction, steps = move.split()\n",
        "    steps = int(steps)\n",
        "\n",
        "    if direction == 'UP':\n",
        "        y += steps\n",
        "    elif direction == 'DOWN':\n",
        "        y -= steps\n",
        "    elif direction == 'LEFT':\n",
        "        x -= steps\n",
        "    elif direction == 'RIGHT':\n",
        "        x += steps\n",
        "\n",
        "distance = round(math.sqrt(x**2 + y**2))\n",
        "print(distance)\n"
      ],
      "metadata": {
        "colab": {
          "base_uri": "https://localhost:8080/"
        },
        "id": "Td9LmZRe1Gx7",
        "outputId": "06d7770f-139c-4973-fed8-8dff53efa798"
      },
      "execution_count": 32,
      "outputs": [
        {
          "output_type": "stream",
          "name": "stdout",
          "text": [
            "Enter movement (UP/DOWN/LEFT/RIGHT steps) or press Enter to stop: UP 5\n",
            "Enter movement (UP/DOWN/LEFT/RIGHT steps) or press Enter to stop: DOWN 3\n",
            "Enter movement (UP/DOWN/LEFT/RIGHT steps) or press Enter to stop: LEFT 3\n",
            "Enter movement (UP/DOWN/LEFT/RIGHT steps) or press Enter to stop: \n",
            "4\n"
          ]
        }
      ]
    },
    {
      "cell_type": "code",
      "source": [
        "# Question 11\n",
        "s = input(\"Enter a string: \")\n",
        "result = \"\"\n",
        "count = 1\n",
        "for i in range(1, len(s)):\n",
        "    if s[i] == s[i-1]:\n",
        "        count += 1\n",
        "    else:\n",
        "        result += s[i-1] + str(count)\n",
        "        count = 1\n",
        "result += s[-1] + str(count)\n",
        "print(result)"
      ],
      "metadata": {
        "colab": {
          "base_uri": "https://localhost:8080/"
        },
        "id": "XpjfMKYa3WC4",
        "outputId": "37ab2689-e474-44aa-cba1-6a86dda72974"
      },
      "execution_count": 33,
      "outputs": [
        {
          "output_type": "stream",
          "name": "stdout",
          "text": [
            "Enter a string: Aabbcdeefffaabbcc\n",
            "A1a1b2c1d1e2f3a2b2c2\n"
          ]
        }
      ]
    },
    {
      "cell_type": "code",
      "source": [
        "# Question 12\n",
        "s = input(\"Enter an alphanumeric string: \")\n",
        "for i in range(len(s)):\n",
        "    if s[i].isalpha():\n",
        "        for j in range(i+1, len(s)):\n",
        "            if s[j].isalpha():\n",
        "                numbers_in_between = s[i+1:j]\n",
        "                num_sum = sum(int(ch) for ch in numbers_in_between if ch.isdigit())\n",
        "                if num_sum == 9:\n",
        "                    print(f\"{s[i]},{s[j]}\")\n"
      ],
      "metadata": {
        "colab": {
          "base_uri": "https://localhost:8080/"
        },
        "id": "jjPgna0U3Yko",
        "outputId": "1528ed3a-0886-4f8b-9810-8664b4dc0a19"
      },
      "execution_count": 34,
      "outputs": [
        {
          "output_type": "stream",
          "name": "stdout",
          "text": [
            "Enter an alphanumeric string: a54b12c\n",
            "a,b\n"
          ]
        }
      ]
    },
    {
      "cell_type": "code",
      "source": [
        "# Question 13\n",
        "binary = input(\"Enter a binary number: \")\n",
        "count = 0\n",
        "for i in range(len(binary)):\n",
        "    if binary[i] == '1':\n",
        "        for j in range(i+1, len(binary)):\n",
        "            if binary[j] == '1':\n",
        "                count += 1\n",
        "print(count)"
      ],
      "metadata": {
        "colab": {
          "base_uri": "https://localhost:8080/"
        },
        "id": "4AfxE_oz3asA",
        "outputId": "f2eb6a87-8d4b-4a89-8bbc-a54dc797b0ff"
      },
      "execution_count": 36,
      "outputs": [
        {
          "output_type": "stream",
          "name": "stdout",
          "text": [
            "Enter a binary number: 1001101010010\n",
            "15\n"
          ]
        }
      ]
    },
    {
      "cell_type": "code",
      "source": [
        "# Question 14\n",
        "currencies = list(map(int, input(\"Enter valid currencies separated by commas: \").split(\",\")))\n",
        "money = int(input(\"Enter the money amount: \"))\n",
        "currencies.sort(reverse=True)\n",
        "for currency in currencies:\n",
        "    if money >= currency:\n",
        "        count = money // currency\n",
        "        money %= currency\n",
        "        print(f\"{currency}-{count}\")"
      ],
      "metadata": {
        "colab": {
          "base_uri": "https://localhost:8080/"
        },
        "id": "8v6HHJck3czZ",
        "outputId": "5dc42d42-2707-468f-d046-ed5376d483d1"
      },
      "execution_count": 37,
      "outputs": [
        {
          "output_type": "stream",
          "name": "stdout",
          "text": [
            "Enter valid currencies separated by commas: 1,2,5,10,20,50,100,200,500,2000\n",
            "Enter the money amount: 210\n",
            "200-1\n",
            "10-1\n"
          ]
        }
      ]
    },
    {
      "cell_type": "code",
      "source": [
        "# Question 15\n",
        "from math import comb\n",
        "n = int(input(\"Enter number of stops (n): \"))\n",
        "m = int(input(\"Enter number of stops to make (m): \"))\n",
        "result = comb(n - m + 1, m)\n",
        "print(result)"
      ],
      "metadata": {
        "colab": {
          "base_uri": "https://localhost:8080/"
        },
        "id": "3l4I_mnY3egU",
        "outputId": "90ab6d26-bfc7-427c-d2ca-97b136a2527b"
      },
      "execution_count": 39,
      "outputs": [
        {
          "output_type": "stream",
          "name": "stdout",
          "text": [
            "Enter number of stops (n): 12\n",
            "Enter number of stops to make (m): 4\n",
            "126\n"
          ]
        }
      ]
    },
    {
      "cell_type": "code",
      "source": [
        "# Question 16\n",
        "def stone_paper_scissor_cut():\n",
        "    options = ['Stone', 'Paper', 'Scissor']\n",
        "    scores = {'Player A': 0, 'Player B': 0}\n",
        "\n",
        "    def decide_winner(a, b):\n",
        "        if a == b:\n",
        "            return 'DRAW'\n",
        "        elif (a == 'Stone' and b == 'Scissor') or (a == 'Paper' and b == 'Stone') or (a == 'Scissor' and b == 'Paper'):\n",
        "            scores['Player A'] += 1\n",
        "            return 'Player A wins'\n",
        "        else:\n",
        "            scores['Player B'] += 1\n",
        "            return 'Player B wins'\n",
        "\n",
        "    while scores['Player A'] < 5 and scores['Player B'] < 5:\n",
        "        a = input(\"Player A: \")\n",
        "        b = input(\"Player B: \")\n",
        "        if a in options and b in options:\n",
        "            print(decide_winner(a, b))\n",
        "        else:\n",
        "            print(\"Invalid input\")\n",
        "\n",
        "    winner = 'Player A' if scores['Player A'] == 5 else 'Player B'\n",
        "    print(f\"{winner} wins the game!\")\n",
        "\n",
        "stone_paper_scissor_cut()\n"
      ],
      "metadata": {
        "colab": {
          "base_uri": "https://localhost:8080/",
          "height": 425
        },
        "id": "89P1IEPp47KA",
        "outputId": "e4f89f62-142d-40e9-b442-f02745599c55"
      },
      "execution_count": 40,
      "outputs": [
        {
          "output_type": "stream",
          "name": "stdout",
          "text": [
            "Player A: Stone\n",
            "Player B: Stone\n",
            "DRAW\n",
            "Player A: \n",
            "Player B: \n",
            "Invalid input\n"
          ]
        },
        {
          "output_type": "error",
          "ename": "KeyboardInterrupt",
          "evalue": "Interrupted by user",
          "traceback": [
            "\u001b[0;31m---------------------------------------------------------------------------\u001b[0m",
            "\u001b[0;31mKeyboardInterrupt\u001b[0m                         Traceback (most recent call last)",
            "\u001b[0;32m<ipython-input-40-61b1d1bcc49e>\u001b[0m in \u001b[0;36m<cell line: 0>\u001b[0;34m()\u001b[0m\n\u001b[1;32m     25\u001b[0m     \u001b[0mprint\u001b[0m\u001b[0;34m(\u001b[0m\u001b[0;34mf\"{winner} wins the game!\"\u001b[0m\u001b[0;34m)\u001b[0m\u001b[0;34m\u001b[0m\u001b[0;34m\u001b[0m\u001b[0m\n\u001b[1;32m     26\u001b[0m \u001b[0;34m\u001b[0m\u001b[0m\n\u001b[0;32m---> 27\u001b[0;31m \u001b[0mstone_paper_scissor_cut\u001b[0m\u001b[0;34m(\u001b[0m\u001b[0;34m)\u001b[0m\u001b[0;34m\u001b[0m\u001b[0;34m\u001b[0m\u001b[0m\n\u001b[0m",
            "\u001b[0;32m<ipython-input-40-61b1d1bcc49e>\u001b[0m in \u001b[0;36mstone_paper_scissor_cut\u001b[0;34m()\u001b[0m\n\u001b[1;32m     15\u001b[0m \u001b[0;34m\u001b[0m\u001b[0m\n\u001b[1;32m     16\u001b[0m     \u001b[0;32mwhile\u001b[0m \u001b[0mscores\u001b[0m\u001b[0;34m[\u001b[0m\u001b[0;34m'Player A'\u001b[0m\u001b[0;34m]\u001b[0m \u001b[0;34m<\u001b[0m \u001b[0;36m5\u001b[0m \u001b[0;32mand\u001b[0m \u001b[0mscores\u001b[0m\u001b[0;34m[\u001b[0m\u001b[0;34m'Player B'\u001b[0m\u001b[0;34m]\u001b[0m \u001b[0;34m<\u001b[0m \u001b[0;36m5\u001b[0m\u001b[0;34m:\u001b[0m\u001b[0;34m\u001b[0m\u001b[0;34m\u001b[0m\u001b[0m\n\u001b[0;32m---> 17\u001b[0;31m         \u001b[0ma\u001b[0m \u001b[0;34m=\u001b[0m \u001b[0minput\u001b[0m\u001b[0;34m(\u001b[0m\u001b[0;34m\"Player A: \"\u001b[0m\u001b[0;34m)\u001b[0m\u001b[0;34m\u001b[0m\u001b[0;34m\u001b[0m\u001b[0m\n\u001b[0m\u001b[1;32m     18\u001b[0m         \u001b[0mb\u001b[0m \u001b[0;34m=\u001b[0m \u001b[0minput\u001b[0m\u001b[0;34m(\u001b[0m\u001b[0;34m\"Player B: \"\u001b[0m\u001b[0;34m)\u001b[0m\u001b[0;34m\u001b[0m\u001b[0;34m\u001b[0m\u001b[0m\n\u001b[1;32m     19\u001b[0m         \u001b[0;32mif\u001b[0m \u001b[0ma\u001b[0m \u001b[0;32min\u001b[0m \u001b[0moptions\u001b[0m \u001b[0;32mand\u001b[0m \u001b[0mb\u001b[0m \u001b[0;32min\u001b[0m \u001b[0moptions\u001b[0m\u001b[0;34m:\u001b[0m\u001b[0;34m\u001b[0m\u001b[0;34m\u001b[0m\u001b[0m\n",
            "\u001b[0;32m/usr/local/lib/python3.11/dist-packages/ipykernel/kernelbase.py\u001b[0m in \u001b[0;36mraw_input\u001b[0;34m(self, prompt)\u001b[0m\n\u001b[1;32m    849\u001b[0m                 \u001b[0;34m\"raw_input was called, but this frontend does not support input requests.\"\u001b[0m\u001b[0;34m\u001b[0m\u001b[0;34m\u001b[0m\u001b[0m\n\u001b[1;32m    850\u001b[0m             )\n\u001b[0;32m--> 851\u001b[0;31m         return self._input_request(str(prompt),\n\u001b[0m\u001b[1;32m    852\u001b[0m             \u001b[0mself\u001b[0m\u001b[0;34m.\u001b[0m\u001b[0m_parent_ident\u001b[0m\u001b[0;34m,\u001b[0m\u001b[0;34m\u001b[0m\u001b[0;34m\u001b[0m\u001b[0m\n\u001b[1;32m    853\u001b[0m             \u001b[0mself\u001b[0m\u001b[0;34m.\u001b[0m\u001b[0m_parent_header\u001b[0m\u001b[0;34m,\u001b[0m\u001b[0;34m\u001b[0m\u001b[0;34m\u001b[0m\u001b[0m\n",
            "\u001b[0;32m/usr/local/lib/python3.11/dist-packages/ipykernel/kernelbase.py\u001b[0m in \u001b[0;36m_input_request\u001b[0;34m(self, prompt, ident, parent, password)\u001b[0m\n\u001b[1;32m    893\u001b[0m             \u001b[0;32mexcept\u001b[0m \u001b[0mKeyboardInterrupt\u001b[0m\u001b[0;34m:\u001b[0m\u001b[0;34m\u001b[0m\u001b[0;34m\u001b[0m\u001b[0m\n\u001b[1;32m    894\u001b[0m                 \u001b[0;31m# re-raise KeyboardInterrupt, to truncate traceback\u001b[0m\u001b[0;34m\u001b[0m\u001b[0;34m\u001b[0m\u001b[0m\n\u001b[0;32m--> 895\u001b[0;31m                 \u001b[0;32mraise\u001b[0m \u001b[0mKeyboardInterrupt\u001b[0m\u001b[0;34m(\u001b[0m\u001b[0;34m\"Interrupted by user\"\u001b[0m\u001b[0;34m)\u001b[0m \u001b[0;32mfrom\u001b[0m \u001b[0;32mNone\u001b[0m\u001b[0;34m\u001b[0m\u001b[0;34m\u001b[0m\u001b[0m\n\u001b[0m\u001b[1;32m    896\u001b[0m             \u001b[0;32mexcept\u001b[0m \u001b[0mException\u001b[0m \u001b[0;32mas\u001b[0m \u001b[0me\u001b[0m\u001b[0;34m:\u001b[0m\u001b[0;34m\u001b[0m\u001b[0;34m\u001b[0m\u001b[0m\n\u001b[1;32m    897\u001b[0m                 \u001b[0mself\u001b[0m\u001b[0;34m.\u001b[0m\u001b[0mlog\u001b[0m\u001b[0;34m.\u001b[0m\u001b[0mwarning\u001b[0m\u001b[0;34m(\u001b[0m\u001b[0;34m\"Invalid Message:\"\u001b[0m\u001b[0;34m,\u001b[0m \u001b[0mexc_info\u001b[0m\u001b[0;34m=\u001b[0m\u001b[0;32mTrue\u001b[0m\u001b[0;34m)\u001b[0m\u001b[0;34m\u001b[0m\u001b[0;34m\u001b[0m\u001b[0m\n",
            "\u001b[0;31mKeyboardInterrupt\u001b[0m: Interrupted by user"
          ]
        }
      ]
    },
    {
      "cell_type": "code",
      "source": [
        "# Question 17\n",
        "import re\n",
        "\n",
        "def validate_email(email):\n",
        "    pattern = r'^[a-z0-9._]+@[a-z0-9]+\\.[a-z]{2,3}$'\n",
        "    if re.fullmatch(pattern, email) and email.count('@') == 1:\n",
        "        return \"Valid Email\"\n",
        "    else:\n",
        "        return \"Invalid Email\"\n",
        "\n",
        "email = input(\"Enter an email address: \")\n",
        "print(validate_email(email))"
      ],
      "metadata": {
        "colab": {
          "base_uri": "https://localhost:8080/"
        },
        "id": "X-B3bxF34-7_",
        "outputId": "30af09a1-f051-4df9-9f73-193410aa8fca"
      },
      "execution_count": 42,
      "outputs": [
        {
          "output_type": "stream",
          "name": "stdout",
          "text": [
            "Enter an email address: bala@gmail.com\n",
            "Valid Email\n"
          ]
        }
      ]
    },
    {
      "cell_type": "code",
      "source": [
        "# Question 18\n",
        "# Pattern 1\n",
        "rows = int(input(\"Enter number of rows: \"))\n",
        "num = 1\n",
        "for i in range(1, rows + 1):\n",
        "    for j in range(1, i + 1):\n",
        "        print(num, end=\"\")\n",
        "        if j != i:\n",
        "            print(\" * \", end=\"\")\n",
        "        num += 1\n",
        "    print()\n"
      ],
      "metadata": {
        "colab": {
          "base_uri": "https://localhost:8080/"
        },
        "id": "3FdgkROV5Bro",
        "outputId": "b7b94dcd-4fb3-4df4-d3a3-6d20919f436d"
      },
      "execution_count": 43,
      "outputs": [
        {
          "output_type": "stream",
          "name": "stdout",
          "text": [
            "Enter number of rows: 4\n",
            "1\n",
            "2 * 3\n",
            "4 * 5 * 6\n",
            "7 * 8 * 9 * 10\n"
          ]
        }
      ]
    },
    {
      "cell_type": "code",
      "source": [
        "\n",
        "# Pattern 2\n",
        "rows = int(input(\"Enter number of rows: \"))\n",
        "for i in range(1, rows + 1):\n",
        "    print(\" \" * (rows - i) + \"* \" * i)\n",
        "for i in range(rows - 1, 0, -1):\n",
        "    print(\" \" * (rows - i) + \"* \" * i)"
      ],
      "metadata": {
        "colab": {
          "base_uri": "https://localhost:8080/"
        },
        "id": "vKD2Jx7q5F8Y",
        "outputId": "ff40dc36-d81f-47c7-e89a-be544d027fff"
      },
      "execution_count": 44,
      "outputs": [
        {
          "output_type": "stream",
          "name": "stdout",
          "text": [
            "Enter number of rows: 4\n",
            "   * \n",
            "  * * \n",
            " * * * \n",
            "* * * * \n",
            " * * * \n",
            "  * * \n",
            "   * \n"
          ]
        }
      ]
    },
    {
      "cell_type": "code",
      "source": [
        "# Pattern 3\n",
        "rows = int(input(\"Enter number of rows: \"))\n",
        "num = 1\n",
        "pattern = []\n",
        "for i in range(1, rows + 1):\n",
        "    line = []\n",
        "    for j in range(1, i + 1):\n",
        "        line.append(str(num))\n",
        "        num += 1\n",
        "    pattern.append(\" * \".join(line))\n",
        "\n",
        "for line in pattern:\n",
        "    print(line)\n",
        "for line in reversed(pattern[:-1]):\n",
        "    print(line)"
      ],
      "metadata": {
        "colab": {
          "base_uri": "https://localhost:8080/"
        },
        "id": "vKNTlbXX5HtQ",
        "outputId": "e4d67e50-c577-4251-cc37-ffaf38d32cc3"
      },
      "execution_count": 45,
      "outputs": [
        {
          "output_type": "stream",
          "name": "stdout",
          "text": [
            "Enter number of rows: 4\n",
            "1\n",
            "2 * 3\n",
            "4 * 5 * 6\n",
            "7 * 8 * 9 * 10\n",
            "4 * 5 * 6\n",
            "2 * 3\n",
            "1\n"
          ]
        }
      ]
    },
    {
      "cell_type": "code",
      "source": [
        "# Pattern 4\n",
        "rows = int(input(\"Enter number of rows: \"))\n",
        "pattern = [\" ***  \", \" *     \", \" *     \", \" * *** \", \" *   * \", \" *   * \", \"  * *  \"]\n",
        "for line in pattern:\n",
        "    print(line)\n",
        "\n",
        "# Pattern 5\n",
        "rows = int(input(\"Enter an odd number of rows: \"))\n",
        "for i in range(rows):\n",
        "    for j in range(rows):\n",
        "        if i == 0 or i == rows - 1 or j == rows // 2:\n",
        "            print(\"1\", end=\" \")\n",
        "        else:\n",
        "            print(\"0\", end=\" \")\n",
        "    print()"
      ],
      "metadata": {
        "colab": {
          "base_uri": "https://localhost:8080/"
        },
        "id": "i6sSQHy65J7R",
        "outputId": "d45d7b61-bc99-425d-e605-30c8a7887536"
      },
      "execution_count": 46,
      "outputs": [
        {
          "output_type": "stream",
          "name": "stdout",
          "text": [
            "Enter number of rows: 7\n",
            " ***  \n",
            " *     \n",
            " *     \n",
            " * *** \n",
            " *   * \n",
            " *   * \n",
            "  * *  \n",
            "Enter an odd number of rows: 5\n",
            "1 1 1 1 1 \n",
            "0 0 1 0 0 \n",
            "0 0 1 0 0 \n",
            "0 0 1 0 0 \n",
            "1 1 1 1 1 \n"
          ]
        }
      ]
    },
    {
      "cell_type": "code",
      "source": [
        "# Question 19\n",
        "def cyclic_rotation(direction, string, times):\n",
        "    for _ in range(times):\n",
        "        if direction == 1:\n",
        "            string = string[1:] + string[0]\n",
        "        elif direction == 2:\n",
        "            string = string[-1] + string[:-1]\n",
        "        print(string)\n",
        "\n",
        "direction = int(input(\"Enter 1 (first to last) or 2 (last to first): \"))\n",
        "string = input(\"Enter the string: \")\n",
        "times = int(input(\"Enter the number of times: \"))\n",
        "cyclic_rotation(direction, string, times)"
      ],
      "metadata": {
        "colab": {
          "base_uri": "https://localhost:8080/"
        },
        "id": "FU1c6x2p5MZJ",
        "outputId": "4f2a5d41-3010-4ddc-fe51-0803e05a2790"
      },
      "execution_count": 47,
      "outputs": [
        {
          "output_type": "stream",
          "name": "stdout",
          "text": [
            "Enter 1 (first to last) or 2 (last to first): 1\n",
            "Enter the string: happy\n",
            "Enter the number of times: 2\n",
            "appyh\n",
            "ppyha\n"
          ]
        }
      ]
    },
    {
      "cell_type": "code",
      "source": [
        "\n",
        "# Question 20\n",
        "healthy_data = {\"Sugar level\": 15, \"Blood pressure\": 32, \"Heartbeat rate\": 71, \"weight\": 65, \"fat percentage\": 10}\n",
        "patient_data = {}\n",
        "\n",
        "for key in healthy_data.keys():\n",
        "    patient_data[key] = int(input(f\"Enter the {key}: \"))\n",
        "\n",
        "for key in healthy_data:\n",
        "    diff = patient_data[key] - healthy_data[key]\n",
        "    print(f\"{key}: {patient_data[key]}\")\n",
        "    print(f\"{key} difference: {diff}\")\n",
        "    if diff != 0:\n",
        "        direction = \"more\" if diff > 0 else \"less\"\n",
        "        print(f\"The {key} is {abs(diff)} {direction} than the ideal value\")\n"
      ],
      "metadata": {
        "colab": {
          "base_uri": "https://localhost:8080/"
        },
        "id": "HhCFYtzq3TTQ",
        "outputId": "956e87d3-b9e8-4282-fb53-4f828b7ee49e"
      },
      "execution_count": 49,
      "outputs": [
        {
          "output_type": "stream",
          "name": "stdout",
          "text": [
            "Enter the Sugar level: 12\n",
            "Enter the Blood pressure: 56\n",
            "Enter the Heartbeat rate: 20\n",
            "Enter the weight: 20\n",
            "Enter the fat percentage: 12\n",
            "Sugar level: 12\n",
            "Sugar level difference: -3\n",
            "The Sugar level is 3 less than the ideal value\n",
            "Blood pressure: 56\n",
            "Blood pressure difference: 24\n",
            "The Blood pressure is 24 more than the ideal value\n",
            "Heartbeat rate: 20\n",
            "Heartbeat rate difference: -51\n",
            "The Heartbeat rate is 51 less than the ideal value\n",
            "weight: 20\n",
            "weight difference: -45\n",
            "The weight is 45 less than the ideal value\n",
            "fat percentage: 12\n",
            "fat percentage difference: 2\n",
            "The fat percentage is 2 more than the ideal value\n"
          ]
        }
      ]
    },
    {
      "cell_type": "code",
      "source": [
        "# Question 21: Check Armstrong Number\n",
        "def is_armstrong(number):\n",
        "    num_str = str(number)\n",
        "    power = len(num_str)\n",
        "    total = sum(int(digit) ** power for digit in num_str)\n",
        "    if total == number:\n",
        "        return \"Armstrong number\"\n",
        "    else:\n",
        "        return \"Not an Armstrong number\"\n",
        "\n",
        "# Question 22: Convert Decimal to Binary (Without inbuilt function)\n",
        "def decimal_to_binary(number):\n",
        "    binary = \"\"\n",
        "    if number == 0:\n",
        "        return \"0\"\n",
        "    while number > 0:\n",
        "        binary = str(number % 2) + binary\n",
        "        number //= 2\n",
        "    return binary\n",
        "\n",
        "# Question 23: Check Perfect Number\n",
        "def is_perfect(number):\n",
        "    divisors = [i for i in range(1, number) if number % i == 0]\n",
        "    if sum(divisors) == number:\n",
        "        return \"Perfect number\"\n",
        "    else:\n",
        "        return \"Not a perfect number\"\n",
        "\n",
        "# Armstrong Number\n",
        "test_armstrong = 1634\n",
        "print(is_armstrong(test_armstrong))\n",
        "print(decimal_to_binary(12))\n",
        "print(decimal_to_binary(20))\n",
        "test_perfect = 28\n",
        "print(is_perfect(test_perfect))"
      ],
      "metadata": {
        "colab": {
          "base_uri": "https://localhost:8080/"
        },
        "id": "4wnCC9TT3TII",
        "outputId": "5eaab784-b49e-4424-8e07-7ef977f8ae60"
      },
      "execution_count": 51,
      "outputs": [
        {
          "output_type": "stream",
          "name": "stdout",
          "text": [
            "Armstrong number\n",
            "1100\n",
            "10100\n",
            "Perfect number\n"
          ]
        }
      ]
    },
    {
      "cell_type": "code",
      "source": [],
      "metadata": {
        "id": "ZMcQjh3b3TFQ"
      },
      "execution_count": null,
      "outputs": []
    }
  ]
}