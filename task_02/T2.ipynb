{
  "cells": [
    {
      "cell_type": "code",
      "execution_count": 1,
      "metadata": {
        "colab": {
          "base_uri": "https://localhost:8080/"
        },
        "id": "fTidG4nnaNLz",
        "outputId": "7aec5998-697a-4f65-e0d5-05e594473702"
      },
      "outputs": [
        {
          "name": "stdout",
          "output_type": "stream",
          "text": [
            "   OrderDate   Region  Manager   SalesMan          Item  Units  Unit_price  \\\n",
            "0 2018-01-06     East   Martha  Alexander    Television     95      1198.0   \n",
            "1 2018-01-23  Central  Hermann     Shelli  Home Theater     50       500.0   \n",
            "2 2018-02-09  Central  Hermann       Luis    Television     36      1198.0   \n",
            "3 2018-02-26  Central  Timothy      David    Cell Phone     27       225.0   \n",
            "4 2018-03-15     West  Timothy    Stephen    Television     56      1198.0   \n",
            "\n",
            "   Sale_amt  \n",
            "0  113810.0  \n",
            "1   25000.0  \n",
            "2   43128.0  \n",
            "3    6075.0  \n",
            "4   67088.0  \n"
          ]
        }
      ],
      "source": [
        "import pandas as pd\n",
        "\n",
        "# Load the sales dataset\n",
        "sales_data = pd.read_excel('SalesData.xlsx')\n",
        "\n",
        "# Display the first few rows of the dataset\n",
        "print(sales_data.head())"
      ]
    },
    {
      "cell_type": "code",
      "execution_count": 2,
      "metadata": {
        "colab": {
          "base_uri": "https://localhost:8080/"
        },
        "id": "m6Z32G01ahtL",
        "outputId": "28f0395c-7575-43ff-9a3e-aeae49f95d46"
      },
      "outputs": [
        {
          "name": "stdout",
          "output_type": "stream",
          "text": [
            "           Item  Least_Sale_Amount\n",
            "0    Cell Phone             3375.0\n",
            "1          Desk              250.0\n",
            "2  Home Theater             2000.0\n",
            "3    Television             8386.0\n",
            "4   Video Games              936.0\n"
          ]
        }
      ],
      "source": [
        "# Group by 'Item' and find the minimum sale amount\n",
        "least_sale_per_item = sales_data.groupby('Item')['Sale_amt'].min().reset_index()\n",
        "least_sale_per_item.columns = ['Item', 'Least_Sale_Amount']\n",
        "print(least_sale_per_item)"
      ]
    },
    {
      "cell_type": "code",
      "execution_count": 3,
      "metadata": {
        "colab": {
          "base_uri": "https://localhost:8080/"
        },
        "id": "Yz7P-xOyakdf",
        "outputId": "0d9d9276-00ff-45dd-8d6d-6cf5b469cc76"
      },
      "outputs": [
        {
          "name": "stdout",
          "output_type": "stream",
          "text": [
            "   Year   Region  Sale_amt\n",
            "0  2018  Central  479825.0\n",
            "1  2018     East  293780.0\n",
            "2  2018     West  105424.0\n",
            "3  2019  Central  349944.5\n",
            "4  2019     East   27227.0\n",
            "5  2019     West   49475.0\n"
          ]
        }
      ],
      "source": [
        "# Extract year from the 'OrderDate' column\n",
        "sales_data['Year'] = pd.to_datetime(sales_data['OrderDate']).dt.year\n",
        "\n",
        "# Group by 'Year' and 'Region' and sum the 'Sale_amt'\n",
        "total_sales_per_year_region = sales_data.groupby(['Year', 'Region'])['Sale_amt'].sum().reset_index()\n",
        "print(total_sales_per_year_region)"
      ]
    },
    {
      "cell_type": "code",
      "execution_count": 4,
      "metadata": {
        "colab": {
          "base_uri": "https://localhost:8080/"
        },
        "id": "sgcB1lyDakZj",
        "outputId": "b94ed753-a755-4837-aad7-4b8a84caf1ee"
      },
      "outputs": [
        {
          "name": "stdout",
          "output_type": "stream",
          "text": [
            "    OrderDate  days_diff\n",
            "0  2018-01-06       2094\n",
            "1  2018-01-23       2077\n",
            "2  2018-02-09       2060\n",
            "3  2018-02-26       2043\n",
            "4  2018-03-15       2026\n",
            "5  2018-04-01       2009\n",
            "6  2018-04-18       1992\n",
            "7  2018-05-05       1975\n",
            "8  2018-05-22       1958\n",
            "9  2018-06-08       1941\n",
            "10 2018-06-25       1924\n",
            "11 2018-07-12       1907\n",
            "12 2018-07-29       1890\n",
            "13 2018-08-15       1873\n",
            "14 2018-09-01       1856\n",
            "15 2018-09-18       1839\n",
            "16 2018-10-05       1822\n",
            "17 2018-10-22       1805\n",
            "18 2018-11-08       1788\n",
            "19 2018-11-25       1771\n",
            "20 2018-12-12       1754\n",
            "21 2018-12-29       1737\n",
            "22 2019-01-15       1720\n",
            "23 2019-02-01       1703\n",
            "24 2019-02-18       1686\n",
            "25 2019-03-07       1669\n",
            "26 2019-03-24       1652\n",
            "27 2019-04-10       1635\n",
            "28 2019-04-27       1618\n",
            "29 2019-05-14       1601\n",
            "30 2019-05-31       1584\n",
            "31 2019-06-17       1567\n",
            "32 2019-07-04       1550\n",
            "33 2019-07-21       1533\n",
            "34 2019-08-07       1516\n",
            "35 2019-08-24       1499\n",
            "36 2019-09-10       1482\n",
            "37 2019-09-27       1465\n",
            "38 2019-10-14       1448\n",
            "39 2019-10-31       1431\n",
            "40 2019-11-17       1414\n",
            "41 2019-12-04       1397\n",
            "42 2019-12-21       1380\n"
          ]
        }
      ],
      "source": [
        "# Assuming the reference date is '2023-10-01'\n",
        "reference_date = pd.to_datetime('2023-10-01')\n",
        "\n",
        "# Calculate the difference in days\n",
        "sales_data['days_diff'] = (reference_date - pd.to_datetime(sales_data['OrderDate'])).dt.days\n",
        "print(sales_data[['OrderDate', 'days_diff']])"
      ]
    },
    {
      "cell_type": "code",
      "execution_count": 5,
      "metadata": {
        "colab": {
          "base_uri": "https://localhost:8080/"
        },
        "id": "EvwA1VUJakVa",
        "outputId": "0dba5c97-99ca-470b-a608-dcd33c01873e"
      },
      "outputs": [
        {
          "name": "stdout",
          "output_type": "stream",
          "text": [
            "   Manager            List_of_Salesmen\n",
            "0  Douglas      [Michael, Karen, John]\n",
            "1  Hermann       [Shelli, Luis, Sigal]\n",
            "2   Martha  [Alexander, Steven, Diana]\n",
            "3  Timothy            [David, Stephen]\n"
          ]
        }
      ],
      "source": [
        "# Group by 'Manager' and aggregate the list of salesmen\n",
        "manager_salesmen = sales_data.groupby('Manager')['SalesMan'].unique().reset_index()\n",
        "manager_salesmen.columns = ['Manager', 'List_of_Salesmen']\n",
        "print(manager_salesmen)"
      ]
    },
    {
      "cell_type": "code",
      "execution_count": 6,
      "metadata": {
        "colab": {
          "base_uri": "https://localhost:8080/"
        },
        "id": "p4vm15C-akRU",
        "outputId": "9453a69e-4132-46f9-b5b7-898abc3830f0"
      },
      "outputs": [
        {
          "name": "stdout",
          "output_type": "stream",
          "text": [
            "    Region  salesmen_count  total_sales\n",
            "0  Central               6     829769.5\n",
            "1     East               3     321007.0\n",
            "2     West               2     154899.0\n"
          ]
        }
      ],
      "source": [
        "# Group by 'Region' and calculate the number of unique salesmen and total sales\n",
        "region_summary = sales_data.groupby('Region').agg(\n",
        "    salesmen_count=('SalesMan', 'nunique'),\n",
        "    total_sales=('Sale_amt', 'sum')\n",
        ").reset_index()\n",
        "print(region_summary)"
      ]
    },
    {
      "cell_type": "code",
      "execution_count": 7,
      "metadata": {
        "colab": {
          "base_uri": "https://localhost:8080/"
        },
        "id": "92bMJf7YakPT",
        "outputId": "133926b6-8112-4195-f4c7-32d004080c7e"
      },
      "outputs": [
        {
          "name": "stdout",
          "output_type": "stream",
          "text": [
            "   Manager  Total_Sales  Percent_Sales\n",
            "0  Douglas     239056.0      18.308990\n",
            "1  Hermann     365108.5      27.963188\n",
            "2   Martha     472493.0      36.187629\n",
            "3  Timothy     229018.0      17.540193\n"
          ]
        }
      ],
      "source": [
        "# Calculate total sales per manager\n",
        "manager_total_sales = sales_data.groupby('Manager')['Sale_amt'].sum().reset_index()\n",
        "\n",
        "# Calculate the percentage of total sales for each manager\n",
        "total_sales_all_managers = manager_total_sales['Sale_amt'].sum()\n",
        "manager_total_sales['percent_sales'] = (manager_total_sales['Sale_amt'] / total_sales_all_managers) * 100\n",
        "\n",
        "# Rename columns for clarity\n",
        "manager_total_sales.columns = ['Manager', 'Total_Sales', 'Percent_Sales']\n",
        "print(manager_total_sales)"
      ]
    },
    {
      "cell_type": "code",
      "execution_count": null,
      "metadata": {
        "colab": {
          "base_uri": "https://localhost:8080/",
          "height": 564
        },
        "id": "6qqnaSc1akMj",
        "outputId": "baa27f47-40be-43f8-be3d-2ef1d22290b7"
      },
      "outputs": [],
      "source": [
        "import pandas as pd\n",
        "\n",
        "# Load the imdb dataset\n",
        "imdb_data = pd.read_csv('imdb.csv')\n",
        "\n",
        "# Display the first few rows of the dataset\n",
        "print(imdb_data.head())"
      ]
    },
    {
      "cell_type": "code",
      "execution_count": 12,
      "metadata": {
        "id": "klNTH5tAakKA"
      },
      "outputs": [],
      "source": [
        "import pandas as pd\n",
        "\n",
        "# Load the imdb dataset, skipping problematic rows\n",
        "imdb_data = pd.read_csv('imdb.csv', on_bad_lines='skip')"
      ]
    },
    {
      "cell_type": "code",
      "execution_count": 13,
      "metadata": {
        "colab": {
          "base_uri": "https://localhost:8080/"
        },
        "id": "mM9ZJZH6akG5",
        "outputId": "f5730d27-3a21-4199-a4b1-8cb29a652aa4"
      },
      "outputs": [
        {
          "name": "stdout",
          "output_type": "stream",
          "text": [
            "IMDb rating for the fifth movie: 8.7\n"
          ]
        }
      ],
      "source": [
        "# Get the IMDb rating for the fifth movie (index 4)\n",
        "fifth_movie_rating = imdb_data.loc[4, 'imdbRating']\n",
        "print(f\"IMDb rating for the fifth movie: {fifth_movie_rating}\")"
      ]
    },
    {
      "cell_type": "code",
      "execution_count": 14,
      "metadata": {
        "colab": {
          "base_uri": "https://localhost:8080/"
        },
        "id": "5pwTCr-DakED",
        "outputId": "b12122c7-7822-4acc-fdda-e93580422626"
      },
      "outputs": [
        {
          "name": "stdout",
          "output_type": "stream",
          "text": [
            "Movie with the shortest duration: Traffic Crossing Leeds Bridge (1888)\n",
            "Movie with the longest duration: Baseball The National Pastime (TV Episode 1994)\n"
          ]
        }
      ],
      "source": [
        "# Find the movie with the shortest duration\n",
        "shortest_duration_movie = imdb_data.loc[imdb_data['duration'].idxmin(), 'title']\n",
        "\n",
        "# Find the movie with the longest duration\n",
        "longest_duration_movie = imdb_data.loc[imdb_data['duration'].idxmax(), 'title']\n",
        "\n",
        "print(f\"Movie with the shortest duration: {shortest_duration_movie}\")\n",
        "print(f\"Movie with the longest duration: {longest_duration_movie}\")"
      ]
    },
    {
      "cell_type": "code",
      "execution_count": 16,
      "metadata": {
        "colab": {
          "base_uri": "https://localhost:8080/"
        },
        "id": "6o6Q-8qKakBw",
        "outputId": "058e70cb-3f1f-4db9-8a41-09fd62259999"
      },
      "outputs": [
        {
          "name": "stdout",
          "output_type": "stream",
          "text": [
            "                                        title    year  imdbRating\n",
            "13605            Roundhay Garden Scene (1888)  1888.0         7.8\n",
            "13282    Traffic Crossing Leeds Bridge (1888)  1888.0         7.2\n",
            "6705                  Blacksmith Scene (1893)  1893.0         6.3\n",
            "12316  Dickson Experimental Sound Film (1894)  1894.0         6.8\n",
            "6706            The Kiss in the Tunnel (1899)  1899.0         5.9\n"
          ]
        }
      ],
      "source": [
        "# Sort by 'year' (earliest first) and 'imdbRating' (highest to lowest)\n",
        "sorted_imdb_data = imdb_data.sort_values(by=['year', 'imdbRating'], ascending=[True, False])\n",
        "print(sorted_imdb_data[['title', 'year', 'imdbRating']].head())"
      ]
    },
    {
      "cell_type": "code",
      "execution_count": 17,
      "metadata": {
        "colab": {
          "base_uri": "https://localhost:8080/"
        },
        "id": "G3VECFAImSrD",
        "outputId": "bf7c1519-c652-4d5f-ae9f-990018a6585c"
      },
      "outputs": [
        {
          "name": "stdout",
          "output_type": "stream",
          "text": [
            "                              title  duration_minutes\n",
            "0  Der Vagabund und das Kind (1921)              54.0\n",
            "1                 Goldrausch (1925)              95.0\n",
            "2                 Metropolis (1927)             153.0\n",
            "3                Der General (1926)             107.0\n",
            "4      Lichter der Großstadt (1931)              87.0\n"
          ]
        }
      ],
      "source": [
        "# Convert duration from seconds to minutes\n",
        "imdb_data['duration_minutes'] = imdb_data['duration'] / 60\n",
        "\n",
        "# Filter movies with duration between 30 and 180 minutes\n",
        "filtered_movies = imdb_data[(imdb_data['duration_minutes'] >= 30) & (imdb_data['duration_minutes'] <= 180)]\n",
        "print(filtered_movies[['title', 'duration_minutes']].head())"
      ]
    },
    {
      "cell_type": "code",
      "execution_count": 18,
      "metadata": {
        "colab": {
          "base_uri": "https://localhost:8080/"
        },
        "id": "00-ow3sWoSbh",
        "outputId": "15598279-a5ec-4b1c-e7b5-ca8516383dcb"
      },
      "outputs": [
        {
          "name": "stdout",
          "output_type": "stream",
          "text": [
            "  carat      cut color clarity  depth  table  price     x     y     z\n",
            "0  0.23    Ideal     E     SI2   61.5   55.0  326.0  3.95  3.98  2.43\n",
            "1  0.21  Premium     E     SI1   59.8   61.0  326.0  3.89  3.84  2.31\n",
            "2  0.23     Good     E     VS1   56.9   65.0  327.0  4.05  4.07  2.31\n",
            "3  0.29  Premium     I     VS2   62.4   58.0  334.0  4.20  4.23  2.63\n",
            "4  0.31     Good     J     SI2   63.3   58.0  335.0  4.34  4.35  2.75\n"
          ]
        }
      ],
      "source": [
        "import pandas as pd\n",
        "import numpy as np\n",
        "\n",
        "# Load the diamonds dataset\n",
        "diamonds = pd.read_csv('diamonds.csv')\n",
        "\n",
        "# Display the first few rows of the dataset\n",
        "print(diamonds.head())"
      ]
    },
    {
      "cell_type": "code",
      "execution_count": 19,
      "metadata": {
        "colab": {
          "base_uri": "https://localhost:8080/"
        },
        "id": "T-xhiwdXoSY6",
        "outputId": "7fff9780-218d-4a5c-fe2b-34ec65842185"
      },
      "outputs": [
        {
          "name": "stdout",
          "output_type": "stream",
          "text": [
            "Number of duplicate rows: 149\n"
          ]
        }
      ],
      "source": [
        "# Count duplicate rows (all columns must match)\n",
        "duplicate_count = diamonds.duplicated().sum()\n",
        "print(f\"Number of duplicate rows: {duplicate_count}\")"
      ]
    },
    {
      "cell_type": "code",
      "execution_count": 20,
      "metadata": {
        "colab": {
          "base_uri": "https://localhost:8080/"
        },
        "id": "2QMhc23HoSWC",
        "outputId": "a89eb5e0-ceba-461c-8436-f3b23c44a19c"
      },
      "outputs": [
        {
          "name": "stdout",
          "output_type": "stream",
          "text": [
            "DataFrame after dropping missing values:\n",
            "  carat      cut color clarity  depth  table  price     x     y     z\n",
            "0  0.23    Ideal     E     SI2   61.5   55.0  326.0  3.95  3.98  2.43\n",
            "1  0.21  Premium     E     SI1   59.8   61.0  326.0  3.89  3.84  2.31\n",
            "2  0.23     Good     E     VS1   56.9   65.0  327.0  4.05  4.07  2.31\n",
            "3  0.29  Premium     I     VS2   62.4   58.0  334.0  4.20  4.23  2.63\n",
            "4  0.31     Good     J     SI2   63.3   58.0  335.0  4.34  4.35  2.75\n"
          ]
        }
      ],
      "source": [
        "# Drop rows with missing values in 'carat' or 'cut'\n",
        "diamonds_clean = diamonds.dropna(subset=['carat', 'cut'])\n",
        "print(f\"DataFrame after dropping missing values:\\n{diamonds_clean.head()}\")"
      ]
    },
    {
      "cell_type": "code",
      "execution_count": 21,
      "metadata": {
        "colab": {
          "base_uri": "https://localhost:8080/"
        },
        "id": "DHWjNfeqoSTU",
        "outputId": "73b4366a-ebc7-414a-ccec-2e0ee217c514"
      },
      "outputs": [
        {
          "name": "stdout",
          "output_type": "stream",
          "text": [
            "Numeric columns subset:\n",
            "   depth  table  price     x     y     z\n",
            "0   61.5   55.0  326.0  3.95  3.98  2.43\n",
            "1   59.8   61.0  326.0  3.89  3.84  2.31\n",
            "2   56.9   65.0  327.0  4.05  4.07  2.31\n",
            "3   62.4   58.0  334.0  4.20  4.23  2.63\n",
            "4   63.3   58.0  335.0  4.34  4.35  2.75\n"
          ]
        }
      ],
      "source": [
        "# Select only numeric columns\n",
        "numeric_columns = diamonds.select_dtypes(include=[np.number])\n",
        "print(f\"Numeric columns subset:\\n{numeric_columns.head()}\")"
      ]
    },
    {
      "cell_type": "code",
      "execution_count": 22,
      "metadata": {
        "colab": {
          "base_uri": "https://localhost:8080/"
        },
        "id": "ULQk6KnPoSQd",
        "outputId": "287902a2-ea5c-462e-ebeb-8e623b7eeaba"
      },
      "outputs": [
        {
          "name": "stdout",
          "output_type": "stream",
          "text": [
            "   depth     x     y     z    volume\n",
            "0   61.5  3.95  3.98  2.43  38.20203\n",
            "1   59.8  3.89  3.84  2.31   8.00000\n",
            "2   56.9  4.05  4.07  2.31   8.00000\n",
            "3   62.4  4.20  4.23  2.63  46.72458\n",
            "4   63.3  4.34  4.35  2.75  51.91725\n"
          ]
        }
      ],
      "source": [
        "# Compute volume based on depth\n",
        "diamonds['volume'] = np.where(\n",
        "    diamonds['depth'] > 60,\n",
        "    diamonds['x'] * diamonds['y'] * diamonds['z'],\n",
        "    8  # Default value if depth ≤ 60\n",
        ")\n",
        "print(diamonds[['depth', 'x', 'y', 'z', 'volume']].head())"
      ]
    },
    {
      "cell_type": "code",
      "execution_count": 23,
      "metadata": {
        "colab": {
          "base_uri": "https://localhost:8080/"
        },
        "id": "7I9TP5BsoSNY",
        "outputId": "74af38d6-8bcd-4a29-a60d-c74bea972e1a"
      },
      "outputs": [
        {
          "name": "stdout",
          "output_type": "stream",
          "text": [
            "Updated 'price' column:\n",
            "0    326.0\n",
            "1    326.0\n",
            "2    327.0\n",
            "3    334.0\n",
            "4    335.0\n",
            "Name: price, dtype: float64\n"
          ]
        }
      ],
      "source": [
        "# Calculate the mean price (excluding NaN)\n",
        "mean_price = diamonds['price'].mean()\n",
        "\n",
        "# Fill missing 'price' values with the mean\n",
        "diamonds['price'] = diamonds['price'].fillna(mean_price)\n",
        "print(f\"Updated 'price' column:\\n{diamonds['price'].head()}\")"
      ]
    },
    {
      "cell_type": "code",
      "execution_count": null,
      "metadata": {
        "id": "jufIsOd7oSKI"
      },
      "outputs": [],
      "source": []
    }
  ],
  "metadata": {
    "colab": {
      "provenance": []
    },
    "kernelspec": {
      "display_name": "Python 3",
      "name": "python3"
    },
    "language_info": {
      "name": "python"
    }
  },
  "nbformat": 4,
  "nbformat_minor": 0
}
